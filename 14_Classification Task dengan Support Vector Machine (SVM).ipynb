{
 "cells": [
  {
   "cell_type": "markdown",
   "id": "2284980c-0f3e-4984-a6ce-cdb3df2924e7",
   "metadata": {},
   "source": [
    "# Classification Task dengan Support Vector Machine (SVM)"
   ]
  },
  {
   "cell_type": "markdown",
   "id": "6dd1895c-3e3a-41ee-9a80-92d6b311c729",
   "metadata": {},
   "source": [
    "## Dataset: The MNIST database of handwritten digits"
   ]
  },
  {
   "cell_type": "code",
   "execution_count": null,
   "id": "bb463e6f-2512-419f-b061-234bbd273943",
   "metadata": {},
   "outputs": [],
   "source": [
    "from sklearn.datasets import fetch_openml\n",
    "X,y = fetch_openml('mnist_784',data_home='./dataset/mnist', return_X_y=True)\n",
    "X.shape"
   ]
  },
  {
   "cell_type": "code",
   "execution_count": null,
   "id": "ac97e893-d480-4f00-9520-733d42cbfed7",
   "metadata": {},
   "outputs": [],
   "source": [
    "import matplotlib.pyplot as plt\n",
    "import matplotlib.cm as cm\n",
    "pos =1\n",
    "for data in X.to_numpy()[:8]:\n",
    "    plt.subplot(1,8,pos)\n",
    "    plt.imshow(data.reshape((28,28)),cmap=cm.Greys_r)\n",
    "    plt.axis('off')\n",
    "    pos +=1\n",
    "plt.show()"
   ]
  },
  {
   "cell_type": "code",
   "execution_count": null,
   "id": "ea2dbfc6-6a0d-4c94-8527-f18e1a78e42f",
   "metadata": {},
   "outputs": [],
   "source": [
    "y[:8]"
   ]
  },
  {
   "cell_type": "code",
   "execution_count": null,
   "id": "2fe83d86-3ed7-471a-8a4d-60af30bb477b",
   "metadata": {},
   "outputs": [],
   "source": [
    "X_train = X[:1000]\n",
    "y_train = y[:1000]\n",
    "X_test = X[69000:]\n",
    "y_test = y[69000:]"
   ]
  },
  {
   "cell_type": "markdown",
   "id": "965c3a35-7259-4db0-a0c0-e11e2cbcbd16",
   "metadata": {},
   "source": [
    "## Classification dengan SVC (Support Vector Classifier)"
   ]
  },
  {
   "cell_type": "code",
   "execution_count": null,
   "id": "7586acac-8e9f-4b44-9dfe-060db2cfd442",
   "metadata": {},
   "outputs": [],
   "source": [
    "from sklearn.svm import SVC\n",
    "model =SVC(random_state=0)\n",
    "model.fit(X_train,y_train)"
   ]
  },
  {
   "cell_type": "code",
   "execution_count": null,
   "id": "44ee204b-fea9-4a4e-adae-c482496d8a71",
   "metadata": {},
   "outputs": [],
   "source": [
    "from sklearn.metrics import classification_report\n",
    "y_pred = model.predict(X_test)\n",
    "print(classification_report(y_test,y_pred))"
   ]
  },
  {
   "cell_type": "markdown",
   "id": "7e502408-8e9e-4878-838d-8422a030666f",
   "metadata": {},
   "source": [
    "## Hyperparameter Tuning dengan GridSearchCV"
   ]
  },
  {
   "cell_type": "code",
   "execution_count": null,
   "id": "3d78823f-1ded-4e4e-bc58-eb676fbe25a4",
   "metadata": {},
   "outputs": [],
   "source": [
    "from sklearn.model_selection import GridSearchCV\n",
    "parameters = {\n",
    "    'kernel':['rbf','poly','sigmoid'],\n",
    "    'C':[0.5,1,10,100],\n",
    "    'gamma':['scale',1,0.1,0.01, 0.001]}\n",
    "grid_search = GridSearchCV(estimator=SVC(random_state=0),param_grid=parameters,n_jobs=6,verbose=1,scoring='accuracy')\n",
    "grid_search.fit(X_train,y_train)"
   ]
  },
  {
   "cell_type": "code",
   "execution_count": null,
   "id": "d69acfad-272a-438f-96f5-443470e41339",
   "metadata": {},
   "outputs": [],
   "source": [
    "print(f'Best Score:{grid_search.best_score_}')\n",
    "best_params =grid_search.best_estimator_.get_params()\n",
    "print(f'Best Parameters:')\n",
    "for param in parameters:\n",
    "    print(f'\\t{param}:{best_params[param]}')"
   ]
  },
  {
   "cell_type": "markdown",
   "id": "9b1c991b-b98a-4d7f-b648-9cdb1a5f3e9c",
   "metadata": {},
   "source": [
    "## Predict & Evaluate"
   ]
  },
  {
   "cell_type": "code",
   "execution_count": null,
   "id": "b83e69e1-a106-448d-a71d-e59f8d6cc2a9",
   "metadata": {},
   "outputs": [],
   "source": [
    "y_pred =grid_search.predict(X_test)\n",
    "print(classification_report(y_test,y_pred))"
   ]
  },
  {
   "cell_type": "code",
   "execution_count": null,
   "id": "d969e918-de25-4b52-8970-3bebb743cac6",
   "metadata": {},
   "outputs": [],
   "source": []
  }
 ],
 "metadata": {
  "kernelspec": {
   "display_name": "Python 3 (ipykernel)",
   "language": "python",
   "name": "python3"
  },
  "language_info": {
   "codemirror_mode": {
    "name": "ipython",
    "version": 3
   },
   "file_extension": ".py",
   "mimetype": "text/x-python",
   "name": "python",
   "nbconvert_exporter": "python",
   "pygments_lexer": "ipython3",
   "version": "3.12.4"
  }
 },
 "nbformat": 4,
 "nbformat_minor": 5
}
